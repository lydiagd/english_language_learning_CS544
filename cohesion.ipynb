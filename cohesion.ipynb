{
 "cells": [
  {
   "cell_type": "code",
   "execution_count": 1,
   "metadata": {
    "colab": {
     "base_uri": "https://localhost:8080/"
    },
    "id": "aDLtRkSwZp_r",
    "outputId": "24c2cda6-e65f-4d03-da77-0c919f40ebce",
    "scrolled": false
   },
   "outputs": [
    {
     "name": "stderr",
     "output_type": "stream",
     "text": [
      "\n",
      "[notice] A new release of pip available: 22.2.1 -> 22.3.1\n",
      "[notice] To update, run: python.exe -m pip install --upgrade pip\n"
     ]
    },
    {
     "name": "stdout",
     "output_type": "stream",
     "text": [
      "Requirement already satisfied: contractions in c:\\users\\jason\\anaconda3\\lib\\site-packages (0.1.72)\n",
      "Requirement already satisfied: textsearch>=0.0.21 in c:\\users\\jason\\anaconda3\\lib\\site-packages (from contractions) (0.0.24)\n",
      "Requirement already satisfied: anyascii in c:\\users\\jason\\anaconda3\\lib\\site-packages (from textsearch>=0.0.21->contractions) (0.3.1)\n",
      "Requirement already satisfied: pyahocorasick in c:\\users\\jason\\anaconda3\\lib\\site-packages (from textsearch>=0.0.21->contractions) (1.4.4)\n"
     ]
    },
    {
     "name": "stderr",
     "output_type": "stream",
     "text": [
      "[nltk_data] Downloading package wordnet to\n",
      "[nltk_data]     C:\\Users\\jason\\AppData\\Roaming\\nltk_data...\n",
      "[nltk_data]   Package wordnet is already up-to-date!\n",
      "ERROR: Invalid requirement: '#'\n",
      "\n",
      "[notice] A new release of pip available: 22.2.1 -> 22.3.1\n",
      "[notice] To update, run: python.exe -m pip install --upgrade pip\n"
     ]
    }
   ],
   "source": [
    "!pip install contractions\n",
    "import warnings\n",
    "warnings.filterwarnings('ignore')\n",
    "import statistics\n",
    "from sklearn.metrics import f1_score\n",
    "from sklearn.metrics import precision_score, recall_score, f1_score\n",
    "import pandas as pd\n",
    "import numpy as np\n",
    "import nltk\n",
    "from nltk.corpus import stopwords\n",
    "from sklearn.datasets import load_digits\n",
    "from sklearn.linear_model import Perceptron\n",
    "from sklearn.feature_extraction.text import TfidfVectorizer\n",
    "from sklearn.feature_extraction.text import TfidfTransformer\n",
    "from sklearn.model_selection import train_test_split\n",
    "nltk.download('wordnet')\n",
    "import re\n",
    "from bs4 import BeautifulSoup\n",
    "! pip install bs4  # in case you don't have it installed\n",
    "\n",
    "# Dataset: https://s3.amazonaws.com/amazon-reviews-pds/tsv/amazon_reviews_us_Jewelry_v1_00.tsv.gz\n"
   ]
  },
  {
   "cell_type": "code",
   "execution_count": 2,
   "metadata": {},
   "outputs": [],
   "source": [
    "df = pd.read_csv('train.csv', sep=',',error_bad_lines=False)\n",
    "df = df[['full_text','cohesion']]\n",
    "df['star_rating'] = pd.to_numeric(df['cohesion'], errors='coerce')\n",
    "df = df[['full_text','star_rating']]\n",
    "#df['star_rating'] = df['star_rating'].astype(str)\n",
    "rev_and_rating = df.rename({'full_text': 'review_body'}, axis=1)"
   ]
  },
  {
   "cell_type": "code",
   "execution_count": 3,
   "metadata": {},
   "outputs": [
    {
     "data": {
      "text/plain": [
       "numpy.float64"
      ]
     },
     "execution_count": 3,
     "metadata": {},
     "output_type": "execute_result"
    }
   ],
   "source": [
    "\n",
    "type(df['star_rating'].head(1).values[0])"
   ]
  },
  {
   "cell_type": "code",
   "execution_count": 4,
   "metadata": {},
   "outputs": [
    {
     "data": {
      "text/html": [
       "<div>\n",
       "<style scoped>\n",
       "    .dataframe tbody tr th:only-of-type {\n",
       "        vertical-align: middle;\n",
       "    }\n",
       "\n",
       "    .dataframe tbody tr th {\n",
       "        vertical-align: top;\n",
       "    }\n",
       "\n",
       "    .dataframe thead th {\n",
       "        text-align: right;\n",
       "    }\n",
       "</style>\n",
       "<table border=\"1\" class=\"dataframe\">\n",
       "  <thead>\n",
       "    <tr style=\"text-align: right;\">\n",
       "      <th></th>\n",
       "      <th>review_body</th>\n",
       "      <th>star_rating</th>\n",
       "    </tr>\n",
       "  </thead>\n",
       "  <tbody>\n",
       "    <tr>\n",
       "      <th>0</th>\n",
       "      <td>I think that students would benefit from learn...</td>\n",
       "      <td>3.5</td>\n",
       "    </tr>\n",
       "    <tr>\n",
       "      <th>1</th>\n",
       "      <td>When a problem is a change you have to let it ...</td>\n",
       "      <td>2.5</td>\n",
       "    </tr>\n",
       "    <tr>\n",
       "      <th>2</th>\n",
       "      <td>Dear, Principal\\n\\nIf u change the school poli...</td>\n",
       "      <td>3.0</td>\n",
       "    </tr>\n",
       "    <tr>\n",
       "      <th>3</th>\n",
       "      <td>The best time in life is when you become yours...</td>\n",
       "      <td>4.5</td>\n",
       "    </tr>\n",
       "    <tr>\n",
       "      <th>4</th>\n",
       "      <td>Small act of kindness can impact in other peop...</td>\n",
       "      <td>2.5</td>\n",
       "    </tr>\n",
       "    <tr>\n",
       "      <th>...</th>\n",
       "      <td>...</td>\n",
       "      <td>...</td>\n",
       "    </tr>\n",
       "    <tr>\n",
       "      <th>3906</th>\n",
       "      <td>I believe using cellphones in class for educat...</td>\n",
       "      <td>2.5</td>\n",
       "    </tr>\n",
       "    <tr>\n",
       "      <th>3907</th>\n",
       "      <td>Working alone, students do not have to argue w...</td>\n",
       "      <td>4.0</td>\n",
       "    </tr>\n",
       "    <tr>\n",
       "      <th>3908</th>\n",
       "      <td>\"A problem is a chance for you to do your best...</td>\n",
       "      <td>2.5</td>\n",
       "    </tr>\n",
       "    <tr>\n",
       "      <th>3909</th>\n",
       "      <td>Many people disagree with Albert Schweitzer's ...</td>\n",
       "      <td>4.0</td>\n",
       "    </tr>\n",
       "    <tr>\n",
       "      <th>3910</th>\n",
       "      <td>Do you think that failure is the main thing fo...</td>\n",
       "      <td>3.5</td>\n",
       "    </tr>\n",
       "  </tbody>\n",
       "</table>\n",
       "<p>3911 rows × 2 columns</p>\n",
       "</div>"
      ],
      "text/plain": [
       "                                            review_body  star_rating\n",
       "0     I think that students would benefit from learn...          3.5\n",
       "1     When a problem is a change you have to let it ...          2.5\n",
       "2     Dear, Principal\\n\\nIf u change the school poli...          3.0\n",
       "3     The best time in life is when you become yours...          4.5\n",
       "4     Small act of kindness can impact in other peop...          2.5\n",
       "...                                                 ...          ...\n",
       "3906  I believe using cellphones in class for educat...          2.5\n",
       "3907  Working alone, students do not have to argue w...          4.0\n",
       "3908  \"A problem is a chance for you to do your best...          2.5\n",
       "3909  Many people disagree with Albert Schweitzer's ...          4.0\n",
       "3910  Do you think that failure is the main thing fo...          3.5\n",
       "\n",
       "[3911 rows x 2 columns]"
      ]
     },
     "execution_count": 4,
     "metadata": {},
     "output_type": "execute_result"
    }
   ],
   "source": [
    "rev_and_rating"
   ]
  },
  {
   "cell_type": "code",
   "execution_count": 5,
   "metadata": {},
   "outputs": [
    {
     "data": {
      "text/plain": [
       "0       3.5\n",
       "1       2.5\n",
       "2       3.0\n",
       "3       4.5\n",
       "4       2.5\n",
       "       ... \n",
       "3906    2.5\n",
       "3907    4.0\n",
       "3908    2.5\n",
       "3909    4.0\n",
       "3910    3.5\n",
       "Name: star_rating, Length: 3911, dtype: float64"
      ]
     },
     "execution_count": 5,
     "metadata": {},
     "output_type": "execute_result"
    }
   ],
   "source": [
    "rev_and_rating.star_rating"
   ]
  },
  {
   "cell_type": "code",
   "execution_count": 6,
   "metadata": {
    "colab": {
     "base_uri": "https://localhost:8080/"
    },
    "id": "amKwEIvD2dDE",
    "outputId": "1bd74e43-9fd1-40ad-f54c-e651cdf37295"
   },
   "outputs": [
    {
     "data": {
      "text/plain": [
       "(3911, 2)"
      ]
     },
     "execution_count": 6,
     "metadata": {},
     "output_type": "execute_result"
    }
   ],
   "source": [
    "rev_and_rating.shape"
   ]
  },
  {
   "cell_type": "code",
   "execution_count": 7,
   "metadata": {
    "id": "Wz2-oHG_2dDG"
   },
   "outputs": [],
   "source": [
    "balanced_data = rev_and_rating"
   ]
  },
  {
   "cell_type": "markdown",
   "metadata": {
    "id": "7yZVVXsKZp_x"
   },
   "source": [
    "# Data Cleaning\n",
    "\n"
   ]
  },
  {
   "cell_type": "code",
   "execution_count": 8,
   "metadata": {
    "id": "3zVbLjVB2dDH"
   },
   "outputs": [],
   "source": [
    "#print the average length\n",
    "before_clean_len = balanced_data['review_body'].astype(str).apply(len).mean()"
   ]
  },
  {
   "cell_type": "markdown",
   "metadata": {
    "id": "t2Ah8y6xZp_x"
   },
   "source": [
    "convert the all reviews into the lower case"
   ]
  },
  {
   "cell_type": "code",
   "execution_count": 9,
   "metadata": {
    "colab": {
     "base_uri": "https://localhost:8080/",
     "height": 424
    },
    "id": "ej1lViAaZp_x",
    "outputId": "b1867be0-0359-470d-e274-793e541d54ff"
   },
   "outputs": [
    {
     "data": {
      "text/html": [
       "<div>\n",
       "<style scoped>\n",
       "    .dataframe tbody tr th:only-of-type {\n",
       "        vertical-align: middle;\n",
       "    }\n",
       "\n",
       "    .dataframe tbody tr th {\n",
       "        vertical-align: top;\n",
       "    }\n",
       "\n",
       "    .dataframe thead th {\n",
       "        text-align: right;\n",
       "    }\n",
       "</style>\n",
       "<table border=\"1\" class=\"dataframe\">\n",
       "  <thead>\n",
       "    <tr style=\"text-align: right;\">\n",
       "      <th></th>\n",
       "      <th>review_body</th>\n",
       "      <th>star_rating</th>\n",
       "    </tr>\n",
       "  </thead>\n",
       "  <tbody>\n",
       "    <tr>\n",
       "      <th>0</th>\n",
       "      <td>I think that students would benefit from learn...</td>\n",
       "      <td>3.5</td>\n",
       "    </tr>\n",
       "    <tr>\n",
       "      <th>1</th>\n",
       "      <td>When a problem is a change you have to let it ...</td>\n",
       "      <td>2.5</td>\n",
       "    </tr>\n",
       "    <tr>\n",
       "      <th>2</th>\n",
       "      <td>Dear, Principal\\n\\nIf u change the school poli...</td>\n",
       "      <td>3.0</td>\n",
       "    </tr>\n",
       "    <tr>\n",
       "      <th>3</th>\n",
       "      <td>The best time in life is when you become yours...</td>\n",
       "      <td>4.5</td>\n",
       "    </tr>\n",
       "    <tr>\n",
       "      <th>4</th>\n",
       "      <td>Small act of kindness can impact in other peop...</td>\n",
       "      <td>2.5</td>\n",
       "    </tr>\n",
       "    <tr>\n",
       "      <th>...</th>\n",
       "      <td>...</td>\n",
       "      <td>...</td>\n",
       "    </tr>\n",
       "    <tr>\n",
       "      <th>3906</th>\n",
       "      <td>I believe using cellphones in class for educat...</td>\n",
       "      <td>2.5</td>\n",
       "    </tr>\n",
       "    <tr>\n",
       "      <th>3907</th>\n",
       "      <td>Working alone, students do not have to argue w...</td>\n",
       "      <td>4.0</td>\n",
       "    </tr>\n",
       "    <tr>\n",
       "      <th>3908</th>\n",
       "      <td>\"A problem is a chance for you to do your best...</td>\n",
       "      <td>2.5</td>\n",
       "    </tr>\n",
       "    <tr>\n",
       "      <th>3909</th>\n",
       "      <td>Many people disagree with Albert Schweitzer's ...</td>\n",
       "      <td>4.0</td>\n",
       "    </tr>\n",
       "    <tr>\n",
       "      <th>3910</th>\n",
       "      <td>Do you think that failure is the main thing fo...</td>\n",
       "      <td>3.5</td>\n",
       "    </tr>\n",
       "  </tbody>\n",
       "</table>\n",
       "<p>3911 rows × 2 columns</p>\n",
       "</div>"
      ],
      "text/plain": [
       "                                            review_body  star_rating\n",
       "0     I think that students would benefit from learn...          3.5\n",
       "1     When a problem is a change you have to let it ...          2.5\n",
       "2     Dear, Principal\\n\\nIf u change the school poli...          3.0\n",
       "3     The best time in life is when you become yours...          4.5\n",
       "4     Small act of kindness can impact in other peop...          2.5\n",
       "...                                                 ...          ...\n",
       "3906  I believe using cellphones in class for educat...          2.5\n",
       "3907  Working alone, students do not have to argue w...          4.0\n",
       "3908  \"A problem is a chance for you to do your best...          2.5\n",
       "3909  Many people disagree with Albert Schweitzer's ...          4.0\n",
       "3910  Do you think that failure is the main thing fo...          3.5\n",
       "\n",
       "[3911 rows x 2 columns]"
      ]
     },
     "execution_count": 9,
     "metadata": {},
     "output_type": "execute_result"
    }
   ],
   "source": [
    "balanced_data"
   ]
  },
  {
   "cell_type": "code",
   "execution_count": 10,
   "metadata": {
    "id": "eocPJ8NNZp_x"
   },
   "outputs": [],
   "source": [
    "balanced_data['review_body'] = balanced_data['review_body'].str.lower()"
   ]
  },
  {
   "cell_type": "code",
   "execution_count": 11,
   "metadata": {
    "colab": {
     "base_uri": "https://localhost:8080/",
     "height": 424
    },
    "id": "Iu7fnCNMZp_x",
    "outputId": "6f8c0093-e22c-4f7a-beeb-e8fe024f36b0"
   },
   "outputs": [
    {
     "data": {
      "text/html": [
       "<div>\n",
       "<style scoped>\n",
       "    .dataframe tbody tr th:only-of-type {\n",
       "        vertical-align: middle;\n",
       "    }\n",
       "\n",
       "    .dataframe tbody tr th {\n",
       "        vertical-align: top;\n",
       "    }\n",
       "\n",
       "    .dataframe thead th {\n",
       "        text-align: right;\n",
       "    }\n",
       "</style>\n",
       "<table border=\"1\" class=\"dataframe\">\n",
       "  <thead>\n",
       "    <tr style=\"text-align: right;\">\n",
       "      <th></th>\n",
       "      <th>review_body</th>\n",
       "      <th>star_rating</th>\n",
       "    </tr>\n",
       "  </thead>\n",
       "  <tbody>\n",
       "    <tr>\n",
       "      <th>0</th>\n",
       "      <td>i think that students would benefit from learn...</td>\n",
       "      <td>3.5</td>\n",
       "    </tr>\n",
       "    <tr>\n",
       "      <th>1</th>\n",
       "      <td>when a problem is a change you have to let it ...</td>\n",
       "      <td>2.5</td>\n",
       "    </tr>\n",
       "    <tr>\n",
       "      <th>2</th>\n",
       "      <td>dear, principal\\n\\nif u change the school poli...</td>\n",
       "      <td>3.0</td>\n",
       "    </tr>\n",
       "    <tr>\n",
       "      <th>3</th>\n",
       "      <td>the best time in life is when you become yours...</td>\n",
       "      <td>4.5</td>\n",
       "    </tr>\n",
       "    <tr>\n",
       "      <th>4</th>\n",
       "      <td>small act of kindness can impact in other peop...</td>\n",
       "      <td>2.5</td>\n",
       "    </tr>\n",
       "    <tr>\n",
       "      <th>...</th>\n",
       "      <td>...</td>\n",
       "      <td>...</td>\n",
       "    </tr>\n",
       "    <tr>\n",
       "      <th>3906</th>\n",
       "      <td>i believe using cellphones in class for educat...</td>\n",
       "      <td>2.5</td>\n",
       "    </tr>\n",
       "    <tr>\n",
       "      <th>3907</th>\n",
       "      <td>working alone, students do not have to argue w...</td>\n",
       "      <td>4.0</td>\n",
       "    </tr>\n",
       "    <tr>\n",
       "      <th>3908</th>\n",
       "      <td>\"a problem is a chance for you to do your best...</td>\n",
       "      <td>2.5</td>\n",
       "    </tr>\n",
       "    <tr>\n",
       "      <th>3909</th>\n",
       "      <td>many people disagree with albert schweitzer's ...</td>\n",
       "      <td>4.0</td>\n",
       "    </tr>\n",
       "    <tr>\n",
       "      <th>3910</th>\n",
       "      <td>do you think that failure is the main thing fo...</td>\n",
       "      <td>3.5</td>\n",
       "    </tr>\n",
       "  </tbody>\n",
       "</table>\n",
       "<p>3911 rows × 2 columns</p>\n",
       "</div>"
      ],
      "text/plain": [
       "                                            review_body  star_rating\n",
       "0     i think that students would benefit from learn...          3.5\n",
       "1     when a problem is a change you have to let it ...          2.5\n",
       "2     dear, principal\\n\\nif u change the school poli...          3.0\n",
       "3     the best time in life is when you become yours...          4.5\n",
       "4     small act of kindness can impact in other peop...          2.5\n",
       "...                                                 ...          ...\n",
       "3906  i believe using cellphones in class for educat...          2.5\n",
       "3907  working alone, students do not have to argue w...          4.0\n",
       "3908  \"a problem is a chance for you to do your best...          2.5\n",
       "3909  many people disagree with albert schweitzer's ...          4.0\n",
       "3910  do you think that failure is the main thing fo...          3.5\n",
       "\n",
       "[3911 rows x 2 columns]"
      ]
     },
     "execution_count": 11,
     "metadata": {},
     "output_type": "execute_result"
    }
   ],
   "source": [
    "balanced_data"
   ]
  },
  {
   "cell_type": "markdown",
   "metadata": {
    "id": "n176tl3bZp_y"
   },
   "source": [
    "change contraction to long form"
   ]
  },
  {
   "cell_type": "code",
   "execution_count": 12,
   "metadata": {
    "id": "tX2pezVHZp_y"
   },
   "outputs": [],
   "source": [
    "import contractions\n",
    "balanced_data['review_body']=balanced_data['review_body'].apply(lambda x: contractions.fix(str(x)))"
   ]
  },
  {
   "cell_type": "code",
   "execution_count": 13,
   "metadata": {
    "colab": {
     "base_uri": "https://localhost:8080/",
     "height": 424
    },
    "id": "AogvyJ9iZp_y",
    "outputId": "e58424ba-a30a-45ce-ccf9-c4416bf98a96"
   },
   "outputs": [
    {
     "data": {
      "text/html": [
       "<div>\n",
       "<style scoped>\n",
       "    .dataframe tbody tr th:only-of-type {\n",
       "        vertical-align: middle;\n",
       "    }\n",
       "\n",
       "    .dataframe tbody tr th {\n",
       "        vertical-align: top;\n",
       "    }\n",
       "\n",
       "    .dataframe thead th {\n",
       "        text-align: right;\n",
       "    }\n",
       "</style>\n",
       "<table border=\"1\" class=\"dataframe\">\n",
       "  <thead>\n",
       "    <tr style=\"text-align: right;\">\n",
       "      <th></th>\n",
       "      <th>review_body</th>\n",
       "      <th>star_rating</th>\n",
       "    </tr>\n",
       "  </thead>\n",
       "  <tbody>\n",
       "    <tr>\n",
       "      <th>0</th>\n",
       "      <td>i think that students would benefit from learn...</td>\n",
       "      <td>3.5</td>\n",
       "    </tr>\n",
       "    <tr>\n",
       "      <th>1</th>\n",
       "      <td>when a problem is a change you have to let it ...</td>\n",
       "      <td>2.5</td>\n",
       "    </tr>\n",
       "    <tr>\n",
       "      <th>2</th>\n",
       "      <td>dear, principal\\n\\nif you change the school po...</td>\n",
       "      <td>3.0</td>\n",
       "    </tr>\n",
       "    <tr>\n",
       "      <th>3</th>\n",
       "      <td>the best time in life is when you become yours...</td>\n",
       "      <td>4.5</td>\n",
       "    </tr>\n",
       "    <tr>\n",
       "      <th>4</th>\n",
       "      <td>small act of kindness can impact in other peop...</td>\n",
       "      <td>2.5</td>\n",
       "    </tr>\n",
       "    <tr>\n",
       "      <th>...</th>\n",
       "      <td>...</td>\n",
       "      <td>...</td>\n",
       "    </tr>\n",
       "    <tr>\n",
       "      <th>3906</th>\n",
       "      <td>i believe using cellphones in class for educat...</td>\n",
       "      <td>2.5</td>\n",
       "    </tr>\n",
       "    <tr>\n",
       "      <th>3907</th>\n",
       "      <td>working alone, students do not have to argue w...</td>\n",
       "      <td>4.0</td>\n",
       "    </tr>\n",
       "    <tr>\n",
       "      <th>3908</th>\n",
       "      <td>\"a problem is a chance for you to do your best...</td>\n",
       "      <td>2.5</td>\n",
       "    </tr>\n",
       "    <tr>\n",
       "      <th>3909</th>\n",
       "      <td>many people disagree with albert schweitzer's ...</td>\n",
       "      <td>4.0</td>\n",
       "    </tr>\n",
       "    <tr>\n",
       "      <th>3910</th>\n",
       "      <td>do you think that failure is the main thing fo...</td>\n",
       "      <td>3.5</td>\n",
       "    </tr>\n",
       "  </tbody>\n",
       "</table>\n",
       "<p>3911 rows × 2 columns</p>\n",
       "</div>"
      ],
      "text/plain": [
       "                                            review_body  star_rating\n",
       "0     i think that students would benefit from learn...          3.5\n",
       "1     when a problem is a change you have to let it ...          2.5\n",
       "2     dear, principal\\n\\nif you change the school po...          3.0\n",
       "3     the best time in life is when you become yours...          4.5\n",
       "4     small act of kindness can impact in other peop...          2.5\n",
       "...                                                 ...          ...\n",
       "3906  i believe using cellphones in class for educat...          2.5\n",
       "3907  working alone, students do not have to argue w...          4.0\n",
       "3908  \"a problem is a chance for you to do your best...          2.5\n",
       "3909  many people disagree with albert schweitzer's ...          4.0\n",
       "3910  do you think that failure is the main thing fo...          3.5\n",
       "\n",
       "[3911 rows x 2 columns]"
      ]
     },
     "execution_count": 13,
     "metadata": {},
     "output_type": "execute_result"
    }
   ],
   "source": [
    "balanced_data"
   ]
  },
  {
   "cell_type": "markdown",
   "metadata": {
    "id": "2PFHA8keZp_y"
   },
   "source": [
    "remove URLs"
   ]
  },
  {
   "cell_type": "code",
   "execution_count": 14,
   "metadata": {
    "colab": {
     "base_uri": "https://localhost:8080/",
     "height": 424
    },
    "id": "4pf2kuE6Zp_y",
    "outputId": "f6f22978-2552-4a14-cd36-6bd8374329e1"
   },
   "outputs": [
    {
     "data": {
      "text/html": [
       "<div>\n",
       "<style scoped>\n",
       "    .dataframe tbody tr th:only-of-type {\n",
       "        vertical-align: middle;\n",
       "    }\n",
       "\n",
       "    .dataframe tbody tr th {\n",
       "        vertical-align: top;\n",
       "    }\n",
       "\n",
       "    .dataframe thead th {\n",
       "        text-align: right;\n",
       "    }\n",
       "</style>\n",
       "<table border=\"1\" class=\"dataframe\">\n",
       "  <thead>\n",
       "    <tr style=\"text-align: right;\">\n",
       "      <th></th>\n",
       "      <th>review_body</th>\n",
       "      <th>star_rating</th>\n",
       "    </tr>\n",
       "  </thead>\n",
       "  <tbody>\n",
       "    <tr>\n",
       "      <th>0</th>\n",
       "      <td>i think that students would benefit from learn...</td>\n",
       "      <td>3.5</td>\n",
       "    </tr>\n",
       "    <tr>\n",
       "      <th>1</th>\n",
       "      <td>when a problem is a change you have to let it ...</td>\n",
       "      <td>2.5</td>\n",
       "    </tr>\n",
       "    <tr>\n",
       "      <th>2</th>\n",
       "      <td>dear, principal\\n\\nif you change the school po...</td>\n",
       "      <td>3.0</td>\n",
       "    </tr>\n",
       "    <tr>\n",
       "      <th>3</th>\n",
       "      <td>the best time in life is when you become yours...</td>\n",
       "      <td>4.5</td>\n",
       "    </tr>\n",
       "    <tr>\n",
       "      <th>4</th>\n",
       "      <td>small act of kindness can impact in other peop...</td>\n",
       "      <td>2.5</td>\n",
       "    </tr>\n",
       "    <tr>\n",
       "      <th>...</th>\n",
       "      <td>...</td>\n",
       "      <td>...</td>\n",
       "    </tr>\n",
       "    <tr>\n",
       "      <th>3906</th>\n",
       "      <td>i believe using cellphones in class for educat...</td>\n",
       "      <td>2.5</td>\n",
       "    </tr>\n",
       "    <tr>\n",
       "      <th>3907</th>\n",
       "      <td>working alone, students do not have to argue w...</td>\n",
       "      <td>4.0</td>\n",
       "    </tr>\n",
       "    <tr>\n",
       "      <th>3908</th>\n",
       "      <td>\"a problem is a chance for you to do your best...</td>\n",
       "      <td>2.5</td>\n",
       "    </tr>\n",
       "    <tr>\n",
       "      <th>3909</th>\n",
       "      <td>many people disagree with albert schweitzer's ...</td>\n",
       "      <td>4.0</td>\n",
       "    </tr>\n",
       "    <tr>\n",
       "      <th>3910</th>\n",
       "      <td>do you think that failure is the main thing fo...</td>\n",
       "      <td>3.5</td>\n",
       "    </tr>\n",
       "  </tbody>\n",
       "</table>\n",
       "<p>3911 rows × 2 columns</p>\n",
       "</div>"
      ],
      "text/plain": [
       "                                            review_body  star_rating\n",
       "0     i think that students would benefit from learn...          3.5\n",
       "1     when a problem is a change you have to let it ...          2.5\n",
       "2     dear, principal\\n\\nif you change the school po...          3.0\n",
       "3     the best time in life is when you become yours...          4.5\n",
       "4     small act of kindness can impact in other peop...          2.5\n",
       "...                                                 ...          ...\n",
       "3906  i believe using cellphones in class for educat...          2.5\n",
       "3907  working alone, students do not have to argue w...          4.0\n",
       "3908  \"a problem is a chance for you to do your best...          2.5\n",
       "3909  many people disagree with albert schweitzer's ...          4.0\n",
       "3910  do you think that failure is the main thing fo...          3.5\n",
       "\n",
       "[3911 rows x 2 columns]"
      ]
     },
     "execution_count": 14,
     "metadata": {},
     "output_type": "execute_result"
    }
   ],
   "source": [
    "import re\n",
    "balanced_data['review_body'] = balanced_data['review_body'].apply(lambda x: re.split('https:\\/\\/.*', str(x))[0])\n",
    "balanced_data"
   ]
  },
  {
   "cell_type": "code",
   "execution_count": 15,
   "metadata": {
    "colab": {
     "base_uri": "https://localhost:8080/",
     "height": 424
    },
    "id": "_yyrMeSrZp_y",
    "outputId": "03c74a19-43b5-42cf-e703-8a513b87a03c"
   },
   "outputs": [
    {
     "data": {
      "text/html": [
       "<div>\n",
       "<style scoped>\n",
       "    .dataframe tbody tr th:only-of-type {\n",
       "        vertical-align: middle;\n",
       "    }\n",
       "\n",
       "    .dataframe tbody tr th {\n",
       "        vertical-align: top;\n",
       "    }\n",
       "\n",
       "    .dataframe thead th {\n",
       "        text-align: right;\n",
       "    }\n",
       "</style>\n",
       "<table border=\"1\" class=\"dataframe\">\n",
       "  <thead>\n",
       "    <tr style=\"text-align: right;\">\n",
       "      <th></th>\n",
       "      <th>review_body</th>\n",
       "      <th>star_rating</th>\n",
       "    </tr>\n",
       "  </thead>\n",
       "  <tbody>\n",
       "    <tr>\n",
       "      <th>0</th>\n",
       "      <td>i think that students would benefit from learn...</td>\n",
       "      <td>3.5</td>\n",
       "    </tr>\n",
       "    <tr>\n",
       "      <th>1</th>\n",
       "      <td>when a problem is a change you have to let it ...</td>\n",
       "      <td>2.5</td>\n",
       "    </tr>\n",
       "    <tr>\n",
       "      <th>2</th>\n",
       "      <td>dear, principal\\n\\nif you change the school po...</td>\n",
       "      <td>3.0</td>\n",
       "    </tr>\n",
       "    <tr>\n",
       "      <th>3</th>\n",
       "      <td>the best time in life is when you become yours...</td>\n",
       "      <td>4.5</td>\n",
       "    </tr>\n",
       "    <tr>\n",
       "      <th>4</th>\n",
       "      <td>small act of kindness can impact in other peop...</td>\n",
       "      <td>2.5</td>\n",
       "    </tr>\n",
       "    <tr>\n",
       "      <th>...</th>\n",
       "      <td>...</td>\n",
       "      <td>...</td>\n",
       "    </tr>\n",
       "    <tr>\n",
       "      <th>3906</th>\n",
       "      <td>i believe using cellphones in class for educat...</td>\n",
       "      <td>2.5</td>\n",
       "    </tr>\n",
       "    <tr>\n",
       "      <th>3907</th>\n",
       "      <td>working alone, students do not have to argue w...</td>\n",
       "      <td>4.0</td>\n",
       "    </tr>\n",
       "    <tr>\n",
       "      <th>3908</th>\n",
       "      <td>\"a problem is a chance for you to do your best...</td>\n",
       "      <td>2.5</td>\n",
       "    </tr>\n",
       "    <tr>\n",
       "      <th>3909</th>\n",
       "      <td>many people disagree with albert schweitzer's ...</td>\n",
       "      <td>4.0</td>\n",
       "    </tr>\n",
       "    <tr>\n",
       "      <th>3910</th>\n",
       "      <td>do you think that failure is the main thing fo...</td>\n",
       "      <td>3.5</td>\n",
       "    </tr>\n",
       "  </tbody>\n",
       "</table>\n",
       "<p>3911 rows × 2 columns</p>\n",
       "</div>"
      ],
      "text/plain": [
       "                                            review_body  star_rating\n",
       "0     i think that students would benefit from learn...          3.5\n",
       "1     when a problem is a change you have to let it ...          2.5\n",
       "2     dear, principal\\n\\nif you change the school po...          3.0\n",
       "3     the best time in life is when you become yours...          4.5\n",
       "4     small act of kindness can impact in other peop...          2.5\n",
       "...                                                 ...          ...\n",
       "3906  i believe using cellphones in class for educat...          2.5\n",
       "3907  working alone, students do not have to argue w...          4.0\n",
       "3908  \"a problem is a chance for you to do your best...          2.5\n",
       "3909  many people disagree with albert schweitzer's ...          4.0\n",
       "3910  do you think that failure is the main thing fo...          3.5\n",
       "\n",
       "[3911 rows x 2 columns]"
      ]
     },
     "execution_count": 15,
     "metadata": {},
     "output_type": "execute_result"
    }
   ],
   "source": [
    "balanced_data['review_body'] = balanced_data['review_body'].apply(lambda x: re.sub('<[^<]+?>', '', str(x)))\n",
    "balanced_data"
   ]
  },
  {
   "cell_type": "markdown",
   "metadata": {
    "id": "cPzLpm8PZp_y"
   },
   "source": [
    "remove non-alphabetical characters\n",
    "\n",
    "remove extra spaces"
   ]
  },
  {
   "cell_type": "code",
   "execution_count": 16,
   "metadata": {
    "colab": {
     "base_uri": "https://localhost:8080/",
     "height": 424
    },
    "id": "1_8SH_RDZp_z",
    "outputId": "664e12c7-27ee-4f7e-c9c8-d3836f9072e3"
   },
   "outputs": [
    {
     "data": {
      "text/html": [
       "<div>\n",
       "<style scoped>\n",
       "    .dataframe tbody tr th:only-of-type {\n",
       "        vertical-align: middle;\n",
       "    }\n",
       "\n",
       "    .dataframe tbody tr th {\n",
       "        vertical-align: top;\n",
       "    }\n",
       "\n",
       "    .dataframe thead th {\n",
       "        text-align: right;\n",
       "    }\n",
       "</style>\n",
       "<table border=\"1\" class=\"dataframe\">\n",
       "  <thead>\n",
       "    <tr style=\"text-align: right;\">\n",
       "      <th></th>\n",
       "      <th>review_body</th>\n",
       "      <th>star_rating</th>\n",
       "    </tr>\n",
       "  </thead>\n",
       "  <tbody>\n",
       "    <tr>\n",
       "      <th>0</th>\n",
       "      <td>i think that students would benefit from learn...</td>\n",
       "      <td>3.5</td>\n",
       "    </tr>\n",
       "    <tr>\n",
       "      <th>1</th>\n",
       "      <td>when a problem is a change you have to let it ...</td>\n",
       "      <td>2.5</td>\n",
       "    </tr>\n",
       "    <tr>\n",
       "      <th>2</th>\n",
       "      <td>dear principalif you change the school policy ...</td>\n",
       "      <td>3.0</td>\n",
       "    </tr>\n",
       "    <tr>\n",
       "      <th>3</th>\n",
       "      <td>the best time in life is when you become yours...</td>\n",
       "      <td>4.5</td>\n",
       "    </tr>\n",
       "    <tr>\n",
       "      <th>4</th>\n",
       "      <td>small act of kindness can impact in other peop...</td>\n",
       "      <td>2.5</td>\n",
       "    </tr>\n",
       "    <tr>\n",
       "      <th>...</th>\n",
       "      <td>...</td>\n",
       "      <td>...</td>\n",
       "    </tr>\n",
       "    <tr>\n",
       "      <th>3906</th>\n",
       "      <td>i believe using cellphones in class for educat...</td>\n",
       "      <td>2.5</td>\n",
       "    </tr>\n",
       "    <tr>\n",
       "      <th>3907</th>\n",
       "      <td>working alone students do not have to argue wi...</td>\n",
       "      <td>4.0</td>\n",
       "    </tr>\n",
       "    <tr>\n",
       "      <th>3908</th>\n",
       "      <td>a problem is a chance for you to do your best ...</td>\n",
       "      <td>2.5</td>\n",
       "    </tr>\n",
       "    <tr>\n",
       "      <th>3909</th>\n",
       "      <td>many people disagree with albert schweitzers q...</td>\n",
       "      <td>4.0</td>\n",
       "    </tr>\n",
       "    <tr>\n",
       "      <th>3910</th>\n",
       "      <td>do you think that failure is the main thing fo...</td>\n",
       "      <td>3.5</td>\n",
       "    </tr>\n",
       "  </tbody>\n",
       "</table>\n",
       "<p>3911 rows × 2 columns</p>\n",
       "</div>"
      ],
      "text/plain": [
       "                                            review_body  star_rating\n",
       "0     i think that students would benefit from learn...          3.5\n",
       "1     when a problem is a change you have to let it ...          2.5\n",
       "2     dear principalif you change the school policy ...          3.0\n",
       "3     the best time in life is when you become yours...          4.5\n",
       "4     small act of kindness can impact in other peop...          2.5\n",
       "...                                                 ...          ...\n",
       "3906  i believe using cellphones in class for educat...          2.5\n",
       "3907  working alone students do not have to argue wi...          4.0\n",
       "3908  a problem is a chance for you to do your best ...          2.5\n",
       "3909  many people disagree with albert schweitzers q...          4.0\n",
       "3910  do you think that failure is the main thing fo...          3.5\n",
       "\n",
       "[3911 rows x 2 columns]"
      ]
     },
     "execution_count": 16,
     "metadata": {},
     "output_type": "execute_result"
    }
   ],
   "source": [
    "balanced_data['review_body'] = balanced_data['review_body'].str.replace('[^a-zA-Z ]', '')\n",
    "balanced_data"
   ]
  },
  {
   "cell_type": "code",
   "execution_count": 17,
   "metadata": {
    "colab": {
     "base_uri": "https://localhost:8080/"
    },
    "id": "n55NuwlE2dDJ",
    "outputId": "5aa78d18-0e70-4921-db81-b0de0fdcaea0"
   },
   "outputs": [
    {
     "name": "stdout",
     "output_type": "stream",
     "text": [
      "2334.522372794682  ,  2296.104321145487\n"
     ]
    }
   ],
   "source": [
    "#print the average length\n",
    "after_clean_len = balanced_data['review_body'].astype(str).apply(len).mean()\n",
    "print(before_clean_len,' , ', after_clean_len)"
   ]
  },
  {
   "cell_type": "markdown",
   "metadata": {
    "id": "t8-FlBTVZp_x"
   },
   "source": [
    "# Pre-processing"
   ]
  },
  {
   "cell_type": "markdown",
   "metadata": {
    "id": "53GWtACJZp_z"
   },
   "source": [
    "## remove the stop words "
   ]
  },
  {
   "cell_type": "code",
   "execution_count": 18,
   "metadata": {
    "colab": {
     "base_uri": "https://localhost:8080/"
    },
    "id": "RkT8h9pFbaZn",
    "outputId": "eaa4f3a3-8a5b-4734-b9fe-d41e5966b1a8",
    "scrolled": true
   },
   "outputs": [
    {
     "name": "stderr",
     "output_type": "stream",
     "text": [
      "[nltk_data] Downloading package stopwords to\n",
      "[nltk_data]     C:\\Users\\jason\\AppData\\Roaming\\nltk_data...\n",
      "[nltk_data]   Package stopwords is already up-to-date!\n"
     ]
    },
    {
     "data": {
      "text/plain": [
       "True"
      ]
     },
     "execution_count": 18,
     "metadata": {},
     "output_type": "execute_result"
    }
   ],
   "source": [
    "nltk.download('stopwords')"
   ]
  },
  {
   "cell_type": "code",
   "execution_count": 19,
   "metadata": {
    "id": "bACd4kE-Zp_z"
   },
   "outputs": [],
   "source": [
    "stop_words = stopwords.words('english')\n",
    "balanced_data['review_body'] = balanced_data['review_body'].apply(lambda x: ' '.join([word for word in x.split() if word not in (stop_words)]))"
   ]
  },
  {
   "cell_type": "code",
   "execution_count": 20,
   "metadata": {
    "colab": {
     "base_uri": "https://localhost:8080/",
     "height": 424
    },
    "id": "hcDE_2xDZp_z",
    "outputId": "eb81deca-5ba5-4b05-8d2c-86bfb8448464"
   },
   "outputs": [
    {
     "data": {
      "text/html": [
       "<div>\n",
       "<style scoped>\n",
       "    .dataframe tbody tr th:only-of-type {\n",
       "        vertical-align: middle;\n",
       "    }\n",
       "\n",
       "    .dataframe tbody tr th {\n",
       "        vertical-align: top;\n",
       "    }\n",
       "\n",
       "    .dataframe thead th {\n",
       "        text-align: right;\n",
       "    }\n",
       "</style>\n",
       "<table border=\"1\" class=\"dataframe\">\n",
       "  <thead>\n",
       "    <tr style=\"text-align: right;\">\n",
       "      <th></th>\n",
       "      <th>review_body</th>\n",
       "      <th>star_rating</th>\n",
       "    </tr>\n",
       "  </thead>\n",
       "  <tbody>\n",
       "    <tr>\n",
       "      <th>39</th>\n",
       "      <td>name genericname story carsi bay car new live ...</td>\n",
       "      <td>1.0</td>\n",
       "    </tr>\n",
       "    <tr>\n",
       "      <th>952</th>\n",
       "      <td>student offer distance learning option student...</td>\n",
       "      <td>1.0</td>\n",
       "    </tr>\n",
       "    <tr>\n",
       "      <th>1161</th>\n",
       "      <td>people value self defrine indidual follow yea ...</td>\n",
       "      <td>1.0</td>\n",
       "    </tr>\n",
       "    <tr>\n",
       "      <th>1540</th>\n",
       "      <td>good prescient us procession prescient us many...</td>\n",
       "      <td>1.0</td>\n",
       "    </tr>\n",
       "    <tr>\n",
       "      <th>2989</th>\n",
       "      <td>good thinkingbut see fast fallsaid ageeri said...</td>\n",
       "      <td>1.0</td>\n",
       "    </tr>\n",
       "    <tr>\n",
       "      <th>3037</th>\n",
       "      <td>people value ideas came millonarie person exam...</td>\n",
       "      <td>1.0</td>\n",
       "    </tr>\n",
       "    <tr>\n",
       "      <th>3086</th>\n",
       "      <td>technology positive good possibility people ac...</td>\n",
       "      <td>1.0</td>\n",
       "    </tr>\n",
       "    <tr>\n",
       "      <th>3342</th>\n",
       "      <td>yes agrey lifes important people value selfrel...</td>\n",
       "      <td>1.0</td>\n",
       "    </tr>\n",
       "    <tr>\n",
       "      <th>3679</th>\n",
       "      <td>memorable teacher ever hadwas teacher wordwild...</td>\n",
       "      <td>1.0</td>\n",
       "    </tr>\n",
       "    <tr>\n",
       "      <th>3706</th>\n",
       "      <td>bring phones school school phones get get scho...</td>\n",
       "      <td>1.0</td>\n",
       "    </tr>\n",
       "  </tbody>\n",
       "</table>\n",
       "</div>"
      ],
      "text/plain": [
       "                                            review_body  star_rating\n",
       "39    name genericname story carsi bay car new live ...          1.0\n",
       "952   student offer distance learning option student...          1.0\n",
       "1161  people value self defrine indidual follow yea ...          1.0\n",
       "1540  good prescient us procession prescient us many...          1.0\n",
       "2989  good thinkingbut see fast fallsaid ageeri said...          1.0\n",
       "3037  people value ideas came millonarie person exam...          1.0\n",
       "3086  technology positive good possibility people ac...          1.0\n",
       "3342  yes agrey lifes important people value selfrel...          1.0\n",
       "3679  memorable teacher ever hadwas teacher wordwild...          1.0\n",
       "3706  bring phones school school phones get get scho...          1.0"
      ]
     },
     "execution_count": 20,
     "metadata": {},
     "output_type": "execute_result"
    }
   ],
   "source": [
    "balanced_data[balanced_data.star_rating==1]"
   ]
  },
  {
   "cell_type": "markdown",
   "metadata": {
    "id": "LjgeOhNqZp_z"
   },
   "source": [
    "## perform lemmatization  "
   ]
  },
  {
   "cell_type": "markdown",
   "metadata": {
    "id": "nqvmBn9oZp_z"
   },
   "source": [
    ":param pos: The Part Of Speech tag. Valid options are `\"n\"` for nouns,\n",
    "            `\"v\"` for verbs, `\"a\"` for adjectives, `\"r\"` for adverbs and `\"s\"`\n",
    "            for satellite adjectives."
   ]
  },
  {
   "cell_type": "code",
   "execution_count": 21,
   "metadata": {
    "colab": {
     "base_uri": "https://localhost:8080/"
    },
    "id": "vjVYrTb8Zp_z",
    "outputId": "c8f11731-221a-43fc-f5c7-593f8b2bc21b"
   },
   "outputs": [
    {
     "name": "stderr",
     "output_type": "stream",
     "text": [
      "[nltk_data] Downloading package omw-1.4 to\n",
      "[nltk_data]     C:\\Users\\jason\\AppData\\Roaming\\nltk_data...\n",
      "[nltk_data]   Package omw-1.4 is already up-to-date!\n"
     ]
    }
   ],
   "source": [
    "from nltk.stem import WordNetLemmatizer\n",
    "lemmatizer = WordNetLemmatizer()\n",
    "nltk.download('omw-1.4')\n",
    "balanced_data['review_body'] = balanced_data['review_body'].apply(lambda x: ' '.join([lemmatizer.lemmatize(word) for word in x.split()]))\n",
    "balanced_data['review_body'] = balanced_data['review_body'].apply(lambda x: ' '.join([lemmatizer.lemmatize(word, pos =\"a\") for word in x.split()]))\n",
    "balanced_data['review_body'] = balanced_data['review_body'].apply(lambda x: ' '.join([lemmatizer.lemmatize(word, pos =\"v\") for word in x.split()]))\n",
    "balanced_data['review_body'] = balanced_data['review_body'].apply(lambda x: ' '.join([lemmatizer.lemmatize(word, pos =\"r\") for word in x.split()]))\n",
    "balanced_data['review_body'] = balanced_data['review_body'].apply(lambda x: ' '.join([lemmatizer.lemmatize(word, pos =\"s\") for word in x.split()]))"
   ]
  },
  {
   "cell_type": "code",
   "execution_count": 22,
   "metadata": {
    "id": "9JwEhvWn2dDL"
   },
   "outputs": [],
   "source": [
    "balanced_data = balanced_data.reset_index()\n",
    "del balanced_data['index']"
   ]
  },
  {
   "cell_type": "code",
   "execution_count": 23,
   "metadata": {
    "colab": {
     "base_uri": "https://localhost:8080/",
     "height": 990
    },
    "id": "bIXA3IUTZp_0",
    "outputId": "f24a253a-cdd4-4951-b7c8-549d88f13b43"
   },
   "outputs": [
    {
     "data": {
      "text/plain": [
       "3.0    1096\n",
       "3.5     988\n",
       "2.5     790\n",
       "4.0     534\n",
       "2.0     315\n",
       "4.5     125\n",
       "1.5      27\n",
       "5.0      26\n",
       "1.0      10\n",
       "Name: star_rating, dtype: int64"
      ]
     },
     "execution_count": 23,
     "metadata": {},
     "output_type": "execute_result"
    }
   ],
   "source": [
    "balanced_data.star_rating.value_counts()"
   ]
  },
  {
   "cell_type": "code",
   "execution_count": 24,
   "metadata": {
    "colab": {
     "base_uri": "https://localhost:8080/"
    },
    "id": "_-T-pZh42dDL",
    "outputId": "f7df52a6-1f8f-46f0-ccae-99a49025c1cb"
   },
   "outputs": [
    {
     "name": "stdout",
     "output_type": "stream",
     "text": [
      "2296.104321145487  ,  1261.80542060854\n"
     ]
    }
   ],
   "source": [
    "#print the average length\n",
    "after_prepro_len = balanced_data['review_body'].astype(str).apply(len).mean()\n",
    "print(after_clean_len,' , ',after_prepro_len)"
   ]
  },
  {
   "cell_type": "code",
   "execution_count": 25,
   "metadata": {
    "id": "PvOKiksLZp_0"
   },
   "outputs": [],
   "source": [
    "X = balanced_data['review_body']\n",
    "y = balanced_data['star_rating']"
   ]
  },
  {
   "cell_type": "markdown",
   "metadata": {
    "id": "3O6fdNp3Zp_0"
   },
   "source": [
    "# TF-IDF Feature Extraction"
   ]
  },
  {
   "cell_type": "code",
   "execution_count": 26,
   "metadata": {
    "id": "cd_4MQz6Zp_0"
   },
   "outputs": [],
   "source": [
    "tfIdfVectorizer1=TfidfVectorizer(max_features=1000)\n",
    "tfIdf_x = tfIdfVectorizer1.fit_transform(X)\n",
    "tfIdf_x_array = tfIdf_x.toarray()\n",
    "#feature_names = tfIdfVectorizer1.get_feature_names()\n",
    "#tfIdf_x_df = pd.DataFrame(tfIdf_x_array, columns = feature_names)"
   ]
  },
  {
   "cell_type": "markdown",
   "metadata": {
    "id": "QHuUEDAHZp_0"
   },
   "source": [
    "# divide train and test"
   ]
  },
  {
   "cell_type": "code",
   "execution_count": 27,
   "metadata": {
    "id": "Lx92aKSAZp_0"
   },
   "outputs": [],
   "source": [
    "train_x, test_x, train_y, test_y = train_test_split(tfIdf_x_array, y, test_size=0.2, random_state=42)"
   ]
  },
  {
   "cell_type": "code",
   "execution_count": 28,
   "metadata": {
    "colab": {
     "base_uri": "https://localhost:8080/"
    },
    "id": "Dd_VT9vb2dDM",
    "outputId": "71cbd7eb-d772-4e7f-843a-7086a60efc1a",
    "scrolled": true
   },
   "outputs": [
    {
     "data": {
      "text/plain": [
       "array([[0.        , 0.        , 0.        , ..., 0.        , 0.        ,\n",
       "        0.        ],\n",
       "       [0.        , 0.        , 0.        , ..., 0.        , 0.        ,\n",
       "        0.        ],\n",
       "       [0.        , 0.        , 0.        , ..., 0.        , 0.        ,\n",
       "        0.        ],\n",
       "       ...,\n",
       "       [0.        , 0.        , 0.        , ..., 0.        , 0.        ,\n",
       "        0.        ],\n",
       "       [0.        , 0.20069227, 0.        , ..., 0.        , 0.        ,\n",
       "        0.        ],\n",
       "       [0.        , 0.        , 0.        , ..., 0.        , 0.        ,\n",
       "        0.        ]])"
      ]
     },
     "execution_count": 28,
     "metadata": {},
     "output_type": "execute_result"
    }
   ],
   "source": [
    "test_x"
   ]
  },
  {
   "cell_type": "code",
   "execution_count": 49,
   "metadata": {},
   "outputs": [
    {
     "name": "stdout",
     "output_type": "stream",
     "text": [
      "Counter({'3.0': 881, '3.5': 769, '2.5': 639, '4.0': 431, '2.0': 253, '4.5': 106, '5.0': 21, '1.5': 20, '1.0': 8})\n"
     ]
    }
   ],
   "source": [
    "from collections import Counter\n",
    "print(Counter(train_y))"
   ]
  },
  {
   "cell_type": "code",
   "execution_count": 30,
   "metadata": {
    "id": "BUnEs_mv2dDM"
   },
   "outputs": [],
   "source": [
    "def printstats(test_y, pred_y):\n",
    "    precision_list = precision_score(test_y,pred_y,average = None)\n",
    "    recall_list = recall_score(test_y,pred_y,average = None)\n",
    "    f1_list = f1_score(test_y, pred_y, average=None)\n",
    "    #class1:\n",
    "    \n",
    "    for i in range(1,6):\n",
    "        print(f'{precision_list[i-1]},{recall_list[i-1]},{f1_list[i-1]}')\n",
    "    print(f\"{statistics.mean(precision_list)},{statistics.mean(recall_list)},{f1_score(test_y, pred_y, average='weighted')}\")\n",
    "    #print(f1_score(test_y, pred_y, average=None))\n"
   ]
  },
  {
   "cell_type": "markdown",
   "metadata": {
    "id": "6H5qXVrvZp_1"
   },
   "source": [
    "# Perceptron"
   ]
  },
  {
   "cell_type": "code",
   "execution_count": 31,
   "metadata": {
    "scrolled": true
   },
   "outputs": [],
   "source": [
    "train_y = train_y.astype(str)\n",
    "test_y = test_y.astype(str)"
   ]
  },
  {
   "cell_type": "code",
   "execution_count": 32,
   "metadata": {
    "id": "A1pg_F6-Zp_1"
   },
   "outputs": [],
   "source": [
    "percept_clf = Perceptron()\n",
    "percept_clf.fit(train_x, train_y)\n",
    "perc_pred_y = percept_clf.predict(test_x)"
   ]
  },
  {
   "cell_type": "code",
   "execution_count": 33,
   "metadata": {
    "colab": {
     "base_uri": "https://localhost:8080/"
    },
    "id": "HcYWfNht2dDN",
    "outputId": "f463d92b-e9b7-4d06-d08a-0cec408ad55a"
   },
   "outputs": [
    {
     "data": {
      "text/plain": [
       "0.227330779054917"
      ]
     },
     "execution_count": 33,
     "metadata": {},
     "output_type": "execute_result"
    }
   ],
   "source": [
    "from sklearn.metrics import accuracy_score\n",
    "accuracy_score(test_y, perc_pred_y)"
   ]
  },
  {
   "cell_type": "code",
   "execution_count": 34,
   "metadata": {
    "colab": {
     "base_uri": "https://localhost:8080/"
    },
    "id": "acmfWGc_Zp_1",
    "outputId": "dfbb006b-0065-4822-f959-4e76b37f78c1"
   },
   "outputs": [
    {
     "data": {
      "text/plain": [
       "0.13709970338462352"
      ]
     },
     "execution_count": 34,
     "metadata": {},
     "output_type": "execute_result"
    }
   ],
   "source": [
    "perc_f1 = f1_score(test_y, perc_pred_y, average='macro')\n",
    "perc_f1"
   ]
  },
  {
   "cell_type": "code",
   "execution_count": 35,
   "metadata": {
    "colab": {
     "base_uri": "https://localhost:8080/"
    },
    "id": "PaiQzn6x2dDN",
    "outputId": "42a15631-69ca-47f5-803f-6a0011035b36"
   },
   "outputs": [
    {
     "data": {
      "text/plain": [
       "array([0.03846154, 0.        , 0.18518519, 0.24423963, 0.31132075,\n",
       "       0.25506073, 0.19090909, 0.07692308, 0.        ])"
      ]
     },
     "execution_count": 35,
     "metadata": {},
     "output_type": "execute_result"
    }
   ],
   "source": [
    "precision_score(test_y,perc_pred_y,average = None)"
   ]
  },
  {
   "cell_type": "code",
   "execution_count": 36,
   "metadata": {
    "colab": {
     "base_uri": "https://localhost:8080/"
    },
    "id": "nwe4DZYS2dDN",
    "outputId": "7b95d254-b422-45f8-c5ba-d626a58d1194"
   },
   "outputs": [
    {
     "name": "stdout",
     "output_type": "stream",
     "text": [
      "0.038461538461538464,0.5,0.07142857142857144\n",
      "0.0,0.0,0.0\n",
      "0.18518518518518517,0.08064516129032258,0.11235955056179775\n",
      "0.24423963133640553,0.3509933774834437,0.2880434782608696\n",
      "0.3113207547169811,0.15348837209302327,0.205607476635514\n",
      "0.14467777847524638,0.18688275519820774,0.2248054435379464\n"
     ]
    }
   ],
   "source": [
    "printstats(test_y, perc_pred_y)"
   ]
  },
  {
   "cell_type": "markdown",
   "metadata": {
    "id": "iiBctmQdZp_1"
   },
   "source": [
    "# SVM"
   ]
  },
  {
   "cell_type": "code",
   "execution_count": 37,
   "metadata": {
    "id": "cyS1ik6lZp_1"
   },
   "outputs": [],
   "source": [
    "#z = '''\n",
    "from sklearn.pipeline import make_pipeline\n",
    "from sklearn.preprocessing import StandardScaler\n",
    "from sklearn.svm import SVC\n",
    "\n",
    "\n",
    "svm_clf = SVC(kernel=\"linear\")\n",
    "\n",
    "#'''\n"
   ]
  },
  {
   "cell_type": "code",
   "execution_count": 38,
   "metadata": {
    "colab": {
     "base_uri": "https://localhost:8080/"
    },
    "id": "OAsltWjo2dDP",
    "outputId": "ea3b8a23-e76d-4267-f8b2-7b01633bbefa"
   },
   "outputs": [
    {
     "data": {
      "text/plain": [
       "SVC(kernel='linear')"
      ]
     },
     "execution_count": 38,
     "metadata": {},
     "output_type": "execute_result"
    }
   ],
   "source": [
    "svm_clf.fit(train_x, train_y)\n"
   ]
  },
  {
   "cell_type": "code",
   "execution_count": 39,
   "metadata": {
    "id": "9dG4VbiRZp_1"
   },
   "outputs": [],
   "source": [
    "#z = '''\n",
    "svm_pred_y = svm_clf.predict(test_x)\n",
    "svm_f1 = f1_score(test_y, svm_pred_y, average='macro')\n",
    "\n",
    "#'''"
   ]
  },
  {
   "cell_type": "code",
   "execution_count": 40,
   "metadata": {
    "colab": {
     "base_uri": "https://localhost:8080/"
    },
    "id": "5Z4Vphof2dDP",
    "outputId": "b7ee40ae-b20e-473e-aa37-35c2401690a7"
   },
   "outputs": [
    {
     "name": "stdout",
     "output_type": "stream",
     "text": [
      "0.0,0.0,0.0\n",
      "0.0,0.0,0.0\n",
      "0.0,0.0,0.0\n",
      "0.25196850393700787,0.2119205298013245,0.23021582733812954\n",
      "0.28184281842818426,0.48372093023255813,0.35616438356164387\n",
      "0.11981619281340641,0.1255613404756557,0.25021755422589215\n"
     ]
    }
   ],
   "source": [
    "printstats(test_y, svm_pred_y)"
   ]
  },
  {
   "cell_type": "markdown",
   "metadata": {
    "id": "1Zf-8GSrZp_2"
   },
   "source": [
    "# Logistic Regression"
   ]
  },
  {
   "cell_type": "code",
   "execution_count": 41,
   "metadata": {
    "id": "YSI4qmzbZp_2"
   },
   "outputs": [],
   "source": [
    "from sklearn.linear_model import LogisticRegression\n",
    "logi_clf = LogisticRegression(random_state=0).fit(train_x, train_y)\n",
    "logi_pred_y = logi_clf.predict(test_x)"
   ]
  },
  {
   "cell_type": "code",
   "execution_count": 42,
   "metadata": {
    "colab": {
     "base_uri": "https://localhost:8080/"
    },
    "id": "RLedX68a2dDN",
    "outputId": "99d1fa94-766e-48ff-e186-8f80cca848b2"
   },
   "outputs": [
    {
     "data": {
      "text/plain": [
       "0.2784163473818646"
      ]
     },
     "execution_count": 42,
     "metadata": {},
     "output_type": "execute_result"
    }
   ],
   "source": [
    "from sklearn.metrics import accuracy_score\n",
    "accuracy_score(test_y, logi_pred_y)"
   ]
  },
  {
   "cell_type": "code",
   "execution_count": 43,
   "metadata": {
    "colab": {
     "base_uri": "https://localhost:8080/"
    },
    "id": "qDNJcbdMZp_2",
    "outputId": "03e4cde9-2f56-4e79-b9e0-609f3c942938"
   },
   "outputs": [
    {
     "data": {
      "text/plain": [
       "0.11677922419244863"
      ]
     },
     "execution_count": 43,
     "metadata": {},
     "output_type": "execute_result"
    }
   ],
   "source": [
    "logi_f1 = f1_score(test_y, logi_pred_y, average='macro')\n",
    "logi_f1"
   ]
  },
  {
   "cell_type": "code",
   "execution_count": 44,
   "metadata": {
    "colab": {
     "base_uri": "https://localhost:8080/"
    },
    "id": "nfu9UKD52dDO",
    "outputId": "fd32ae9f-107f-4854-c4bf-c3c2784ffdb3"
   },
   "outputs": [
    {
     "name": "stdout",
     "output_type": "stream",
     "text": [
      "0.0,0.0,0.0\n",
      "0.0,0.0,0.0\n",
      "0.0,0.0,0.0\n",
      "0.23529411764705882,0.2119205298013245,0.2229965156794425\n",
      "0.2756598240469208,0.4372093023255814,0.3381294964028777\n",
      "0.11835051085025193,0.1250876624811545,0.2511395102147756\n"
     ]
    }
   ],
   "source": [
    "printstats(test_y, logi_pred_y)"
   ]
  },
  {
   "cell_type": "markdown",
   "metadata": {
    "id": "GnBtusgQZp_2"
   },
   "source": [
    "# Naive Bayes"
   ]
  },
  {
   "cell_type": "code",
   "execution_count": 45,
   "metadata": {
    "id": "yPw1uKRDZp_2"
   },
   "outputs": [],
   "source": [
    "from sklearn.naive_bayes import GaussianNB\n",
    "gnb_clf = GaussianNB().fit(train_x, train_y)\n",
    "gnb_pred_y = gnb_clf.predict(test_x)"
   ]
  },
  {
   "cell_type": "code",
   "execution_count": 46,
   "metadata": {
    "colab": {
     "base_uri": "https://localhost:8080/"
    },
    "id": "xOOhM1yS2dDO",
    "outputId": "1a9676f1-652d-4543-ae96-f5f5b855384b"
   },
   "outputs": [
    {
     "data": {
      "text/plain": [
       "0.15197956577266922"
      ]
     },
     "execution_count": 46,
     "metadata": {},
     "output_type": "execute_result"
    }
   ],
   "source": [
    "from sklearn.metrics import accuracy_score\n",
    "accuracy_score(test_y, gnb_pred_y)"
   ]
  },
  {
   "cell_type": "code",
   "execution_count": 47,
   "metadata": {
    "colab": {
     "base_uri": "https://localhost:8080/"
    },
    "id": "g_abBfB9Zp_2",
    "outputId": "7670709e-4ca9-423b-8c8c-602aad4f9c64",
    "scrolled": true
   },
   "outputs": [
    {
     "data": {
      "text/plain": [
       "0.10065552199125632"
      ]
     },
     "execution_count": 47,
     "metadata": {},
     "output_type": "execute_result"
    }
   ],
   "source": [
    "nb_f1 = f1_score(test_y, gnb_pred_y, average='macro')\n",
    "nb_f1"
   ]
  },
  {
   "cell_type": "code",
   "execution_count": 48,
   "metadata": {
    "colab": {
     "base_uri": "https://localhost:8080/"
    },
    "id": "SKzSrkEF2dDO",
    "outputId": "1cd2c809-0930-4010-c8f8-8b372cd2e96a"
   },
   "outputs": [
    {
     "name": "stdout",
     "output_type": "stream",
     "text": [
      "0.0,0.0,0.0\n",
      "0.0,0.0,0.0\n",
      "0.09574468085106383,0.2903225806451613,0.144\n",
      "0.19101123595505617,0.11258278145695365,0.1416666666666667\n",
      "0.2605042016806723,0.14418604651162792,0.18562874251497008\n",
      "0.12697942575446283,0.14545687045136174,0.16618107664042892\n"
     ]
    }
   ],
   "source": [
    "printstats(test_y, gnb_pred_y)"
   ]
  },
  {
   "cell_type": "code",
   "execution_count": null,
   "metadata": {},
   "outputs": [],
   "source": []
  },
  {
   "cell_type": "code",
   "execution_count": null,
   "metadata": {},
   "outputs": [],
   "source": []
  }
 ],
 "metadata": {
  "accelerator": "GPU",
  "colab": {
   "collapsed_sections": [
    "AfwjnDvfZp_w"
   ],
   "machine_shape": "hm",
   "provenance": []
  },
  "gpuClass": "standard",
  "kernelspec": {
   "display_name": "Python 3 (ipykernel)",
   "language": "python",
   "name": "python3"
  },
  "language_info": {
   "codemirror_mode": {
    "name": "ipython",
    "version": 3
   },
   "file_extension": ".py",
   "mimetype": "text/x-python",
   "name": "python",
   "nbconvert_exporter": "python",
   "pygments_lexer": "ipython3",
   "version": "3.8.13"
  }
 },
 "nbformat": 4,
 "nbformat_minor": 1
}
